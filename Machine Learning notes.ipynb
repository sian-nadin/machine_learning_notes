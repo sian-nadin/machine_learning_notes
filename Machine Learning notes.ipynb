{
 "cells": [
  {
   "cell_type": "markdown",
   "metadata": {},
   "source": [
    "# Intro to machine learning\n",
    "\n",
    "## Naive Bayes\n",
    "\n",
    "## Decision surface\n",
    "Algorithm takes in data and creates a decision surface that can predict whther future cases will land in a certain category. \n",
    "When the decision surface is a straight line it is linear."
   ]
  }
 ],
 "metadata": {
  "kernelspec": {
   "display_name": "Python (py3)",
   "language": "python",
   "name": "py3"
  },
  "language_info": {
   "codemirror_mode": {
    "name": "ipython",
    "version": 3
   },
   "file_extension": ".py",
   "mimetype": "text/x-python",
   "name": "python",
   "nbconvert_exporter": "python",
   "pygments_lexer": "ipython3",
   "version": "3.6.4"
  }
 },
 "nbformat": 4,
 "nbformat_minor": 2
}
